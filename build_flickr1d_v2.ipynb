{
 "cells": [
  {
   "cell_type": "markdown",
   "metadata": {},
   "source": [
    "# Input"
   ]
  },
  {
   "cell_type": "code",
   "execution_count": null,
   "metadata": {},
   "outputs": [],
   "source": [
    "flickr8k_dn = '/Users/pbos/projects/spokenLanguage/data/flickr8k/'"
   ]
  },
  {
   "cell_type": "markdown",
   "metadata": {},
   "source": [
    "# Load Flickr8k metadata"
   ]
  },
  {
   "cell_type": "code",
   "execution_count": null,
   "metadata": {},
   "outputs": [],
   "source": [
    "import json\n",
    "from IPython.display import Image, Audio\n",
    "from collections import Counter\n",
    "import matplotlib.pyplot as plt"
   ]
  },
  {
   "cell_type": "code",
   "execution_count": null,
   "metadata": {},
   "outputs": [],
   "source": [
    "with open(flickr8k_dn + 'dataset.json') as fh:\n",
    "    metadata = json.load(fh)"
   ]
  },
  {
   "cell_type": "code",
   "execution_count": null,
   "metadata": {},
   "outputs": [],
   "source": [
    "assert(len(metadata['images']) == 8000)"
   ]
  },
  {
   "cell_type": "markdown",
   "metadata": {},
   "source": [
    "# flickr1d\n",
    "\n",
    "Let's build the flickr1d (1 deca, i.e. 10) dataset out of this!\n",
    "\n",
    "We need to make sure we include all types of images, i.e. training, testing and validation. We could select these out of the dataset to stay as close to flickr8k as possible. However, since it's just a training set, we can also just reset the metadata.\n",
    "\n",
    "We'll go with 6 training images, 2 testing and 2 validation."
   ]
  },
  {
   "cell_type": "code",
   "execution_count": null,
   "metadata": {},
   "outputs": [],
   "source": [
    "'cp ' + ' '.join([metadata['images'][ix]['filename'] for ix in range(10)]) + ' ' + flickr8k_dn + '../../../Flickr8k_Dataset/Flicker8k_Dataset/flickr1d/'"
   ]
  },
  {
   "cell_type": "code",
   "execution_count": null,
   "metadata": {},
   "outputs": [],
   "source": [
    "data_dn_1d = 'flickr1d/'"
   ]
  },
  {
   "cell_type": "code",
   "execution_count": null,
   "metadata": {},
   "outputs": [],
   "source": [
    "flickr1d_meta = {'dataset': 'flickr1d', 'images': metadata['images'][:10]}"
   ]
  },
  {
   "cell_type": "code",
   "execution_count": null,
   "metadata": {},
   "outputs": [],
   "source": [
    "flickr1d_meta['images'][6]['split'] = 'test'\n",
    "flickr1d_meta['images'][7]['split'] = 'test'\n",
    "flickr1d_meta['images'][8]['split'] = 'val'\n",
    "flickr1d_meta['images'][9]['split'] = 'val'"
   ]
  },
  {
   "cell_type": "code",
   "execution_count": null,
   "metadata": {},
   "outputs": [],
   "source": [
    "print([i['split'] for i in flickr1d_meta['images']])"
   ]
  },
  {
   "cell_type": "code",
   "execution_count": null,
   "metadata": {},
   "outputs": [],
   "source": [
    "with open(data_dn_1d + 'dataset.json', 'w') as fh:\n",
    "    json.dump(flickr1d_meta, fh)"
   ]
  },
  {
   "cell_type": "markdown",
   "metadata": {},
   "source": [
    "## Wav files -  wav2capt metadata"
   ]
  },
  {
   "cell_type": "code",
   "execution_count": null,
   "metadata": {},
   "outputs": [],
   "source": [
    "flickr_1d_img_filenames = [im['filename'] for im in flickr1d_meta['images']]\n",
    "with open(flickr8k_dn + 'wav2capt.txt', 'r') as fh:\n",
    "    wav2capt = [line.split() for line in fh if line.split()[1] in flickr_1d_img_filenames]"
   ]
  },
  {
   "cell_type": "code",
   "execution_count": null,
   "metadata": {},
   "outputs": [],
   "source": [
    "with open(data_dn_1d + 'wav2capt.txt', 'w') as fh:\n",
    "    for line in wav2capt:\n",
    "        fh.write(' '.join(line) + '\\n')"
   ]
  },
  {
   "cell_type": "code",
   "execution_count": null,
   "metadata": {},
   "outputs": [],
   "source": [
    "flickr_1d_wav_filenames = [wav[0] for wav in wav2capt_1d]\n",
    "with open(flickr8k_dn + 'wav2spk.txt', 'r') as fh:\n",
    "    wav2spk = [line.split() for line in fh if line.split()[0] in flickr_1d_wav_filenames]"
   ]
  },
  {
   "cell_type": "code",
   "execution_count": null,
   "metadata": {},
   "outputs": [],
   "source": [
    "with open(data_dn_1d + 'wav2spk.txt', 'w') as fh:\n",
    "    for line in wav2spk:\n",
    "        fh.write(' '.join(line) + '\\n')"
   ]
  },
  {
   "cell_type": "markdown",
   "metadata": {},
   "source": [
    "Then finally copy over the actual wavs:"
   ]
  },
  {
   "cell_type": "code",
   "execution_count": null,
   "metadata": {},
   "outputs": [],
   "source": [
    "print(f\"mkdir -p {data_dn_1d}/flickr_audio/wavs/; cp {flickr8k_dn}/flickr_audio/wavs/{{{','.join([wv[0] for wv in wav2spk])}}} {data_dn_1d}/flickr_audio/wavs/\")"
   ]
  },
  {
   "cell_type": "code",
   "execution_count": null,
   "metadata": {},
   "outputs": [],
   "source": []
  }
 ],
 "metadata": {
  "language_info": {
   "name": "python",
   "pygments_lexer": "ipython3"
  }
 },
 "nbformat": 4,
 "nbformat_minor": 4
}
