{
 "cells": [
  {
   "cell_type": "markdown",
   "metadata": {},
   "source": [
    "# Check Flickr8k\n",
    "\n",
    "First we check out the 8k metadata."
   ]
  },
  {
   "cell_type": "code",
   "execution_count": null,
   "metadata": {},
   "outputs": [],
   "source": [
    "import json\n",
    "from IPython.display import Image, Audio\n",
    "from collections import Counter\n",
    "import matplotlib.pyplot as plt"
   ]
  },
  {
   "cell_type": "code",
   "execution_count": null,
   "metadata": {},
   "outputs": [],
   "source": [
    "data_dn = '/Users/pbos/projects/spokenLanguage/flickr8k/'"
   ]
  },
  {
   "cell_type": "code",
   "execution_count": null,
   "metadata": {},
   "outputs": [],
   "source": [
    "with open(data_dn + 'dataset.json') as fh:\n",
    "    metadata = json.load(fh)"
   ]
  },
  {
   "cell_type": "code",
   "execution_count": null,
   "metadata": {},
   "outputs": [],
   "source": [
    "metadata.keys(), metadata['dataset']"
   ]
  },
  {
   "cell_type": "code",
   "execution_count": null,
   "metadata": {},
   "outputs": [],
   "source": [
    "metadata['images']"
   ]
  },
  {
   "cell_type": "code",
   "execution_count": null,
   "metadata": {},
   "outputs": [],
   "source": [
    "len(metadata['images'])"
   ]
  },
  {
   "cell_type": "markdown",
   "metadata": {},
   "source": [
    "Let's check out whether they match:"
   ]
  },
  {
   "cell_type": "code",
   "execution_count": null,
   "metadata": {},
   "outputs": [],
   "source": [
    "def check_image(ix):\n",
    "    print([i['raw'] for i in metadata['images'][ix]['sentences']])\n",
    "    display(Image(data_dn + 'Flickr8k_Dataset/Flicker8k_Dataset/' + metadata['images'][ix]['filename']))"
   ]
  },
  {
   "cell_type": "code",
   "execution_count": null,
   "metadata": {},
   "outputs": [],
   "source": [
    "check_image(0)"
   ]
  },
  {
   "cell_type": "code",
   "execution_count": null,
   "metadata": {},
   "outputs": [],
   "source": [
    "check_image(300)"
   ]
  },
  {
   "cell_type": "markdown",
   "metadata": {},
   "source": [
    "# flickr1d\n",
    "\n",
    "Let's build the flickr1d (1 deca, i.e. 10) dataset out of this!"
   ]
  },
  {
   "cell_type": "code",
   "execution_count": null,
   "metadata": {},
   "outputs": [],
   "source": [
    "'cp ' + ' '.join([metadata['images'][ix]['filename'] for ix in range(10)]) + ' ' + data_dn + '../../../Flickr8k_Dataset/Flicker8k_Dataset/flickr1d/'"
   ]
  },
  {
   "cell_type": "code",
   "execution_count": null,
   "metadata": {},
   "outputs": [],
   "source": [
    "data_dn_1d = '/Users/pbos/projects/spokenLanguage/flickr1d/'"
   ]
  },
  {
   "cell_type": "code",
   "execution_count": null,
   "metadata": {},
   "outputs": [],
   "source": [
    "flickr1d_meta = {'dataset': 'flickr1d', 'images': metadata['images'][:10]}"
   ]
  },
  {
   "cell_type": "code",
   "execution_count": null,
   "metadata": {},
   "outputs": [],
   "source": [
    "with open(data_dn_1d + 'dataset.json', 'w') as fh:\n",
    "    json.dump(flickr1d_meta, fh)"
   ]
  },
  {
   "cell_type": "markdown",
   "metadata": {},
   "source": [
    "## Wav files -  wav2capt metadata"
   ]
  },
  {
   "cell_type": "code",
   "execution_count": null,
   "metadata": {},
   "outputs": [],
   "source": [
    "flickr_1d_img_filenames = [im['filename'] for im in flickr1d_meta['images']]\n",
    "with open(data_dn + 'wav2capt.txt', 'r') as fh:\n",
    "    wav2capt = [line.split() for line in fh if line.split()[1] in flickr_1d_img_filenames]"
   ]
  },
  {
   "cell_type": "code",
   "execution_count": null,
   "metadata": {},
   "outputs": [],
   "source": [
    "wav2capt[:5], len(wav2capt), Counter(list(zip(*wav2capt))[1])"
   ]
  },
  {
   "cell_type": "markdown",
   "metadata": {},
   "source": [
    "Which wav files belong to which captions? Let's check."
   ]
  },
  {
   "cell_type": "code",
   "execution_count": null,
   "metadata": {},
   "outputs": [],
   "source": [
    "Audio(data_dn + 'flickr_audio/wavs/' + wav2capt[0][0])"
   ]
  },
  {
   "cell_type": "markdown",
   "metadata": {},
   "source": [
    "This says \"a dog is carrying something pink in its mouth while walking through the snow\" in a female voice."
   ]
  },
  {
   "cell_type": "code",
   "execution_count": null,
   "metadata": {},
   "outputs": [],
   "source": [
    "Audio(data_dn + 'flickr_audio/wavs/' + wav2capt[1][0])"
   ]
  },
  {
   "cell_type": "markdown",
   "metadata": {},
   "source": [
    "This says in a different female voice \"a brown dog is holding a pink shirt in the snow\".\n",
    "\n",
    "It's clear both are about image 2. The first file, which is labeled \"#3\" is the third caption in the list for that file, the second, #2, is the second. So that matches up:"
   ]
  },
  {
   "cell_type": "code",
   "execution_count": null,
   "metadata": {},
   "outputs": [],
   "source": [
    "flickr1d_meta['images'][2]['sentences'][2]['raw'], flickr1d_meta['images'][2]['sentences'][3]['raw']"
   ]
  },
  {
   "cell_type": "markdown",
   "metadata": {},
   "source": [
    "What about which speakers say which things?"
   ]
  },
  {
   "cell_type": "code",
   "execution_count": null,
   "metadata": {},
   "outputs": [],
   "source": [
    "Audio(data_dn + 'flickr_audio/wavs/' + wav2capt[4][0])"
   ]
  },
  {
   "cell_type": "code",
   "execution_count": null,
   "metadata": {},
   "outputs": [],
   "source": [
    "Audio(data_dn + 'flickr_audio/wavs/' + wav2capt[5][0])"
   ]
  },
  {
   "cell_type": "markdown",
   "metadata": {},
   "source": [
    "No correspondence at all, all four seem different speakers, so speaker info is apparently not in these files."
   ]
  },
  {
   "cell_type": "code",
   "execution_count": null,
   "metadata": {},
   "outputs": [],
   "source": [
    "with open(data_dn_1d + 'wav2capt.txt', 'w') as fh:\n",
    "    for line in wav2capt:\n",
    "        fh.write(' '.join(line) + '\\n')"
   ]
  },
  {
   "cell_type": "markdown",
   "metadata": {},
   "source": [
    "Of course, because the speaker info is in wav2spk.txt, let's also modify that."
   ]
  },
  {
   "cell_type": "code",
   "execution_count": null,
   "metadata": {},
   "outputs": [],
   "source": [
    "flickr_1d_wav_filenames = [wav[0] for wav in wav2capt_1d]\n",
    "with open(data_dn + 'wav2spk.txt', 'r') as fh:\n",
    "    wav2spk = [line.split() for line in fh if line.split()[0] in flickr_1d_wav_filenames]"
   ]
  },
  {
   "cell_type": "code",
   "execution_count": null,
   "metadata": {},
   "outputs": [],
   "source": [
    "wav2spk[:5], len(wav2spk), Counter(list(zip(*wav2spk))[1])"
   ]
  },
  {
   "cell_type": "markdown",
   "metadata": {},
   "source": [
    "So, this is not a really nicely balanced dataset, obviously. I'm not sure how important speaker info is, though. Also, what's the total dataset like?"
   ]
  },
  {
   "cell_type": "code",
   "execution_count": null,
   "metadata": {},
   "outputs": [],
   "source": [
    "with open(data_dn + 'wav2spk.txt', 'r') as fh:\n",
    "    full_speaker_distribution = Counter([line.split()[1] for line in fh])"
   ]
  },
  {
   "cell_type": "code",
   "execution_count": null,
   "metadata": {},
   "outputs": [],
   "source": [
    "plt.bar(list(full_speaker_distribution.keys()), list(full_speaker_distribution.values()))"
   ]
  },
  {
   "cell_type": "markdown",
   "metadata": {},
   "source": [
    "Not balanced at all either, so probably it doesn't matter (it's actually representative of flickr8k in this sense)."
   ]
  },
  {
   "cell_type": "code",
   "execution_count": null,
   "metadata": {},
   "outputs": [],
   "source": [
    "with open(data_dn_1d + 'wav2spk.txt', 'w') as fh:\n",
    "    for line in wav2spk:\n",
    "        fh.write(' '.join(line) + '\\n')"
   ]
  },
  {
   "cell_type": "markdown",
   "metadata": {},
   "source": [
    "Then finally copy over the actual wavs:"
   ]
  },
  {
   "cell_type": "code",
   "execution_count": null,
   "metadata": {},
   "outputs": [],
   "source": [
    "print(f\"mkdir -p {data_dn_1d}/flickr_audio/wavs/; cp {data_dn}/flickr_audio/wavs/{{{','.join([wv[0] for wv in wav2spk])}}} {data_dn_1d}/flickr_audio/wavs/\")"
   ]
  },
  {
   "cell_type": "code",
   "execution_count": null,
   "metadata": {},
   "outputs": [],
   "source": []
  }
 ],
 "metadata": {
  "language_info": {
   "name": "python",
   "pygments_lexer": "ipython3"
  }
 },
 "nbformat": 4,
 "nbformat_minor": 4
}
